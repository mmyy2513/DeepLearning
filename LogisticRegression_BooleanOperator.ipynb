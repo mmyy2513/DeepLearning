{
 "cells": [
  {
   "cell_type": "markdown",
   "metadata": {},
   "source": [
    "# Import Modules"
   ]
  },
  {
   "cell_type": "code",
   "execution_count": 1,
   "metadata": {
    "ExecuteTime": {
     "end_time": "2021-03-23T02:40:58.789271Z",
     "start_time": "2021-03-23T02:40:58.459146Z"
    }
   },
   "outputs": [],
   "source": [
    "import numpy as np\n",
    "import matplotlib.pyplot as plt"
   ]
  },
  {
   "cell_type": "markdown",
   "metadata": {},
   "source": [
    "# Make Dataset"
   ]
  },
  {
   "cell_type": "code",
   "execution_count": 2,
   "metadata": {
    "ExecuteTime": {
     "end_time": "2021-03-23T02:40:58.805228Z",
     "start_time": "2021-03-23T02:40:58.790269Z"
    }
   },
   "outputs": [],
   "source": [
    "# Data\n",
    "X = np.array([[0, 0], [1, 0], [0, 1], [1, 1]])\n",
    "\n",
    "AND_Y = np.array([[0], [0], [0], [1]])\n",
    "OR_Y = np.array([[0], [1], [1], [1]])\n",
    "XOR_Y = np.array([[0], [1], [1], [0]])"
   ]
  },
  {
   "cell_type": "markdown",
   "metadata": {},
   "source": [
    "# Define Class\n",
    "- 정규분포를 따르는 가중치와 편향 w, b를 선언합니다.\n",
    "- 내적을 통해 나온 값을 sigmoid 함수 $ 1 \\over (1 + exp(-x)) $를 거쳐 값을 예측합니다."
   ]
  },
  {
   "cell_type": "code",
   "execution_count": 3,
   "metadata": {
    "ExecuteTime": {
     "end_time": "2021-03-23T02:40:58.821186Z",
     "start_time": "2021-03-23T02:40:58.806226Z"
    }
   },
   "outputs": [],
   "source": [
    "# Model\n",
    "class LogisticRegressionModel():\n",
    "    def __init__(self):\n",
    "        self.w = np.random.normal(size=2)\n",
    "        self.b = np.random.normal(size=1)\n",
    "\n",
    "    def sigmoid(self, z):\n",
    "        return 1 / (1 + np.exp(-z))\n",
    "\n",
    "    def predict(self, x):\n",
    "        z = np.inner(x, self.w) + self.b\n",
    "        y_pred = self.sigmoid(z)\n",
    "        return y_pred"
   ]
  },
  {
   "cell_type": "markdown",
   "metadata": {},
   "source": [
    "# Train\n",
    "- 손실함수에 대한 가중치 w와 편향 b의 기울기를 저장할 변수 dw, db를 선언합니다. 이 때 dw와 db의 크기는 각각 w, b와 같습니다.\n",
    "- 손실함수는 Binary Cross Entropy를 사용하고, 최종 Cost는 평균$\\sum Loss\\over N$을 취합니다.\n",
    "$$ Loss = -y*log(y\\_pred)-(1-y)*log(1-y\\_pred) $$\n",
    "- Cost에 대한 w, b의 기울기는 다음과 같습니다.    \n",
    "$${dL\\over dw}  = {(y\\_pred-y)*x} $$$$ {dL\\over db}=y\\_pred-y$$\n",
    "- 각 모델에 대하여 10000번의 학습을 진행하였습니다.\n",
    "- 이 때, Loss 그래프를 그리기 위하여 매 반복마다 Cost를 리스트에 저장하였습니다."
   ]
  },
  {
   "cell_type": "markdown",
   "metadata": {},
   "source": [
    "## Define Functions"
   ]
  },
  {
   "cell_type": "code",
   "execution_count": 4,
   "metadata": {
    "ExecuteTime": {
     "end_time": "2021-03-23T02:40:58.836146Z",
     "start_time": "2021-03-23T02:40:58.822183Z"
    }
   },
   "outputs": [],
   "source": [
    "# train function\n",
    "def train(X, Y, model, lr=1e-1):\n",
    "    dw = np.zeros_like(model.w, dtype=np.float32)\n",
    "    db = np.zeros_like(model.b, dtype=np.float32)\n",
    "    m = X.shape[0]\n",
    "    cost = 0.\n",
    "    for x, y in zip(X, Y):\n",
    "        y_pred = model.predict(x)\n",
    "        if y == 1:\n",
    "            cost -= np.log(y_pred)\n",
    "        else:\n",
    "            cost -= np.log(1 - y_pred)\n",
    "        dw += (y_pred - y) * x\n",
    "        db += (y_pred - y)\n",
    "\n",
    "    cost /= m\n",
    "    model.w -= lr * dw / m\n",
    "    model.b -= lr * db / m\n",
    "\n",
    "    return cost\n",
    "\n",
    "# save loss of each 3 model\n",
    "def save_loss(X, Y, models):\n",
    "    cost1, cost2, cost3 = 0, 0, 0\n",
    "    cost_list_1, cost_list_2, cost_list_3 = [], [], []\n",
    "\n",
    "    costs = [cost1, cost2, cost3]\n",
    "    cost_list = [cost_list_1, cost_list_2, cost_list_3]\n",
    "    lr_list = [1e-1, 1e-2, 1e-3]\n",
    "\n",
    "    epochs = 10001\n",
    "    for i, model in enumerate(models):\n",
    "        print(\"model{} : lr = {}\".format(i + 1, lr_list[i]))\n",
    "        for t in range(epochs):\n",
    "            costs[i] = train(X, Y, model, lr=lr_list[i])\n",
    "            cost_list[i].append(costs[i])\n",
    "            if t % 2000 == 0:\n",
    "                print(\"epoch: {:<5d}   loss: {:.4f}\".format(t, costs[i][0]))\n",
    "        print(\"\\n\")\n",
    "    return cost_list\n"
   ]
  },
  {
   "cell_type": "markdown",
   "metadata": {},
   "source": [
    "## Define Models"
   ]
  },
  {
   "cell_type": "markdown",
   "metadata": {},
   "source": [
    "- 학습률을 다르게 하여 학습을 진행하기 위하여 각각 세 모델을 선언하였습니다."
   ]
  },
  {
   "cell_type": "code",
   "execution_count": 5,
   "metadata": {
    "ExecuteTime": {
     "end_time": "2021-03-23T02:40:58.852103Z",
     "start_time": "2021-03-23T02:40:58.837143Z"
    }
   },
   "outputs": [],
   "source": [
    "# define models\n",
    "AND_model1, AND_model2, AND_model3 = [LogisticRegressionModel() for i in range(3)]\n",
    "OR_model1, OR_model2, OR_model3 = [LogisticRegressionModel() for i in range(3)]\n",
    "XOR_model1, XOR_model2, XOR_model3 = [LogisticRegressionModel() for i in range(3)]\n",
    "\n",
    "AND_models = [eval(f\"AND_model{i}\") for i in range(1, 4)]\n",
    "OR_models = [eval(f\"OR_model{i}\") for i in range(1, 4)]\n",
    "XOR_models = [eval(f\"XOR_model{i}\") for i in range(1, 4)]"
   ]
  },
  {
   "cell_type": "markdown",
   "metadata": {},
   "source": [
    "## Train And-Operator Model"
   ]
  },
  {
   "cell_type": "code",
   "execution_count": 6,
   "metadata": {
    "ExecuteTime": {
     "end_time": "2021-03-23T02:41:01.160238Z",
     "start_time": "2021-03-23T02:40:58.853101Z"
    }
   },
   "outputs": [
    {
     "name": "stdout",
     "output_type": "stream",
     "text": [
      "model1 : lr = 0.1\n",
      "epoch: 0       loss: 0.7632\n",
      "epoch: 2000    loss: 0.0811\n",
      "epoch: 4000    loss: 0.0429\n",
      "epoch: 6000    loss: 0.0289\n",
      "epoch: 8000    loss: 0.0218\n",
      "epoch: 10000   loss: 0.0174\n",
      "\n",
      "\n",
      "model2 : lr = 0.01\n",
      "epoch: 0       loss: 0.7569\n",
      "epoch: 2000    loss: 0.3824\n",
      "epoch: 4000    loss: 0.2671\n",
      "epoch: 6000    loss: 0.2083\n",
      "epoch: 8000    loss: 0.1713\n",
      "epoch: 10000   loss: 0.1455\n",
      "\n",
      "\n",
      "model3 : lr = 0.001\n",
      "epoch: 0       loss: 0.5632\n",
      "epoch: 2000    loss: 0.5142\n",
      "epoch: 4000    loss: 0.4809\n",
      "epoch: 6000    loss: 0.4537\n",
      "epoch: 8000    loss: 0.4300\n",
      "epoch: 10000   loss: 0.4090\n",
      "\n",
      "\n"
     ]
    }
   ],
   "source": [
    "AND_loss = save_loss(X, AND_Y, AND_models)"
   ]
  },
  {
   "cell_type": "markdown",
   "metadata": {},
   "source": [
    "## Train OR-Operator Model"
   ]
  },
  {
   "cell_type": "code",
   "execution_count": 7,
   "metadata": {
    "ExecuteTime": {
     "end_time": "2021-03-23T02:41:03.775966Z",
     "start_time": "2021-03-23T02:41:01.161235Z"
    }
   },
   "outputs": [
    {
     "name": "stdout",
     "output_type": "stream",
     "text": [
      "model1 : lr = 0.1\n",
      "epoch: 0       loss: 0.6063\n",
      "epoch: 2000    loss: 0.0476\n",
      "epoch: 4000    loss: 0.0237\n",
      "epoch: 6000    loss: 0.0157\n",
      "epoch: 8000    loss: 0.0117\n",
      "epoch: 10000   loss: 0.0093\n",
      "\n",
      "\n",
      "model2 : lr = 0.01\n",
      "epoch: 0       loss: 1.7811\n",
      "epoch: 2000    loss: 0.2900\n",
      "epoch: 4000    loss: 0.1938\n",
      "epoch: 6000    loss: 0.1436\n",
      "epoch: 8000    loss: 0.1132\n",
      "epoch: 10000   loss: 0.0930\n",
      "\n",
      "\n",
      "model3 : lr = 0.001\n",
      "epoch: 0       loss: 0.6664\n",
      "epoch: 2000    loss: 0.5283\n",
      "epoch: 4000    loss: 0.4702\n",
      "epoch: 6000    loss: 0.4335\n",
      "epoch: 8000    loss: 0.4049\n",
      "epoch: 10000   loss: 0.3804\n",
      "\n",
      "\n"
     ]
    }
   ],
   "source": [
    "OR_loss = save_loss(X, OR_Y, OR_models)"
   ]
  },
  {
   "cell_type": "markdown",
   "metadata": {},
   "source": [
    "## Train XOR-Operator Model"
   ]
  },
  {
   "cell_type": "code",
   "execution_count": 8,
   "metadata": {
    "ExecuteTime": {
     "end_time": "2021-03-23T02:41:06.050688Z",
     "start_time": "2021-03-23T02:41:03.776253Z"
    }
   },
   "outputs": [
    {
     "name": "stdout",
     "output_type": "stream",
     "text": [
      "model1 : lr = 0.1\n",
      "epoch: 0       loss: 0.9207\n",
      "epoch: 2000    loss: 0.6931\n",
      "epoch: 4000    loss: 0.6931\n",
      "epoch: 6000    loss: 0.6931\n",
      "epoch: 8000    loss: 0.6931\n",
      "epoch: 10000   loss: 0.6931\n",
      "\n",
      "\n",
      "model2 : lr = 0.01\n",
      "epoch: 0       loss: 1.1464\n",
      "epoch: 2000    loss: 0.7114\n",
      "epoch: 4000    loss: 0.6960\n",
      "epoch: 6000    loss: 0.6937\n",
      "epoch: 8000    loss: 0.6932\n",
      "epoch: 10000   loss: 0.6932\n",
      "\n",
      "\n",
      "model3 : lr = 0.001\n",
      "epoch: 0       loss: 0.7030\n",
      "epoch: 2000    loss: 0.7009\n",
      "epoch: 4000    loss: 0.6993\n",
      "epoch: 6000    loss: 0.6980\n",
      "epoch: 8000    loss: 0.6971\n",
      "epoch: 10000   loss: 0.6963\n",
      "\n",
      "\n"
     ]
    }
   ],
   "source": [
    "XOR_loss = save_loss(X, XOR_Y, XOR_models)"
   ]
  },
  {
   "cell_type": "markdown",
   "metadata": {},
   "source": [
    "# Loss Graph"
   ]
  },
  {
   "cell_type": "markdown",
   "metadata": {},
   "source": [
    "- 학습률을 1e-1, 1e-2, 1e-3 으로 지정하였을 때의 Loss 그래프입니다.\n",
    "- 학습률을 1e-1로 지정하였을 때, 가장 빠르게 수렴하는 것을 확인할 수 있었습니다.\n",
    "- 또한 XOR 연산자의 경우 학습이 제대로 진행되지 않았습니다.\n",
    "- 이는 단일 노드만을 이용했기 때문에 발생하는 문제라고 생각합니다."
   ]
  },
  {
   "cell_type": "code",
   "execution_count": 9,
   "metadata": {
    "ExecuteTime": {
     "end_time": "2021-03-23T02:41:06.445635Z",
     "start_time": "2021-03-23T02:41:06.051685Z"
    }
   },
   "outputs": [
    {
     "data": {
      "image/png": "[encoded data removed]",
      "text/plain": [
       "<Figure size 1080x1296 with 3 Axes>"
      ]
     },
     "metadata": {
      "needs_background": "light"
     },
     "output_type": "display_data"
    }
   ],
   "source": [
    "ops = [\"AND\", \"OR\", \"XOR\"]\n",
    "colors = ['r', 'g', 'b']\n",
    "epochs = 10001\n",
    "plt.figure(figsize=(15, 18))\n",
    "for i, op in enumerate(ops):\n",
    "    plt.subplot(3, 1, i + 1)\n",
    "    plt.ylim(-0.01, 1.5)\n",
    "    for j in range(3):\n",
    "        plt.plot(np.arange(epochs),\n",
    "                 eval(f\"{op}_loss[{j}]\"),\n",
    "                 label=f'lr = 1e-{j+1}',\n",
    "                 color=colors[j],\n",
    "                 linewidth=3 if j == 0 else 2)\n",
    "        plt.title(f\"{op}_Loss Graph with 3 Learning Rates\")\n",
    "        plt.xlabel(\"epochs\")\n",
    "        plt.ylabel(\"loss\")\n",
    "        plt.legend()\n",
    "plt.show()"
   ]
  },
  {
   "cell_type": "markdown",
   "metadata": {},
   "source": [
    "# Predict each operator"
   ]
  },
  {
   "cell_type": "code",
   "execution_count": 10,
   "metadata": {
    "ExecuteTime": {
     "end_time": "2021-03-23T02:41:06.460595Z",
     "start_time": "2021-03-23T02:41:06.446631Z"
    },
    "code_folding": []
   },
   "outputs": [],
   "source": [
    "AND_model, OR_model, XOR_model = AND_model1, OR_model1, XOR_model1\n",
    "def predict(X, model):\n",
    "    print(\"======\",model,\"=====\")\n",
    "    print(\" data   predict\")\n",
    "    for x in X:\n",
    "        print(\"{}   {:.4f}\".format(x, eval(model).predict(x)[0]))\n",
    "    print(\"\\n\")"
   ]
  },
  {
   "cell_type": "code",
   "execution_count": 11,
   "metadata": {
    "ExecuteTime": {
     "end_time": "2021-03-23T02:41:06.475554Z",
     "start_time": "2021-03-23T02:41:06.461591Z"
    }
   },
   "outputs": [
    {
     "name": "stdout",
     "output_type": "stream",
     "text": [
      "====== AND_model =====\n",
      " data   predict\n",
      "[0 0]   0.0000\n",
      "[1 0]   0.0202\n",
      "[0 1]   0.0202\n",
      "[1 1]   0.9717\n",
      "\n",
      "\n",
      "====== OR_model =====\n",
      " data   predict\n",
      "[0 0]   0.0206\n",
      "[1 0]   0.9918\n",
      "[0 1]   0.9918\n",
      "[1 1]   1.0000\n",
      "\n",
      "\n",
      "====== XOR_model =====\n",
      " data   predict\n",
      "[0 0]   0.5000\n",
      "[1 0]   0.5000\n",
      "[0 1]   0.5000\n",
      "[1 1]   0.5000\n",
      "\n",
      "\n"
     ]
    }
   ],
   "source": [
    "predict(X, \"AND_model\")\n",
    "predict(X, \"OR_model\")\n",
    "predict(X, \"XOR_model\")"
   ]
  },
  {
   "cell_type": "code",
   "execution_count": null,
   "metadata": {},
   "outputs": [],
   "source": []
  }
 ],
 "metadata": {
  "kernelspec": {
   "display_name": "Python 3",
   "language": "python",
   "name": "python3"
  },
  "language_info": {
   "codemirror_mode": {
    "name": "ipython",
    "version": 3
   },
   "file_extension": ".py",
   "mimetype": "text/x-python",
   "name": "python",
   "nbconvert_exporter": "python",
   "pygments_lexer": "ipython3",
   "version": "3.8.3"
  },
  "toc": {
   "base_numbering": 1,
   "nav_menu": {},
   "number_sections": true,
   "sideBar": true,
   "skip_h1_title": false,
   "title_cell": "Table of Contents",
   "title_sidebar": "Contents",
   "toc_cell": false,
   "toc_position": {
    "height": "calc(100% - 180px)",
    "left": "10px",
    "top": "150px",
    "width": "376.649px"
   },
   "toc_section_display": true,
   "toc_window_display": false
  },
  "varInspector": {
   "cols": {
    "lenName": 16,
    "lenType": 16,
    "lenVar": 40
   },
   "kernels_config": {
    "python": {
     "delete_cmd_postfix": "",
     "delete_cmd_prefix": "del ",
     "library": "var_list.py",
     "varRefreshCmd": "print(var_dic_list())"
    },
    "r": {
     "delete_cmd_postfix": ") ",
     "delete_cmd_prefix": "rm(",
     "library": "var_list.r",
     "varRefreshCmd": "cat(var_dic_list()) "
    }
   },
   "types_to_exclude": [
    "module",
    "function",
    "builtin_function_or_method",
    "instance",
    "_Feature"
   ],
   "window_display": false
  }
 },
 "nbformat": 4,
 "nbformat_minor": 4
}
