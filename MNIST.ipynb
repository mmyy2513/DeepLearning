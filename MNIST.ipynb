{
 "cells": [
  {
   "cell_type": "markdown",
   "metadata": {},
   "source": [
    "# Import Modules"
   ]
  },
  {
   "cell_type": "code",
   "execution_count": 1,
   "metadata": {
    "ExecuteTime": {
     "end_time": "2021-04-06T11:40:02.756622Z",
     "start_time": "2021-04-06T11:40:02.193144Z"
    }
   },
   "outputs": [],
   "source": [
    "import torch\n",
    "import torch.nn as nn\n",
    "import torch.optim as optim\n",
    "import torch.nn.functional as F\n",
    "import torchvision\n",
    "import torchvision.datasets as datasets\n",
    "import torchvision.transforms as transforms\n",
    "from torch.utils.data import DataLoader, TensorDataset"
   ]
  },
  {
   "cell_type": "markdown",
   "metadata": {},
   "source": [
    "# Make Dataset"
   ]
  },
  {
   "cell_type": "code",
   "execution_count": 2,
   "metadata": {
    "ExecuteTime": {
     "end_time": "2021-04-06T11:40:03.361206Z",
     "start_time": "2021-04-06T11:40:02.757619Z"
    }
   },
   "outputs": [],
   "source": [
    "# make dataset\n",
    "\n",
    "import pickle, gzip\n",
    "\n",
    "with gzip.open('C:/Users/OWNER/Desktop/mnist.pkl.gz', 'rb') as f:\n",
    "    ((x_train, y_train), (x_test, y_test), _) = pickle.load(f, encoding=\"latin-1\")\n",
    "    \n",
    "batch_size = 16\n",
    "\n",
    "x_train, y_train, x_test, y_test = map(torch.tensor,\n",
    "                                       (x_train, y_train, x_test, y_test))\n",
    "\n",
    "train_ds = TensorDataset(x_train, y_train)\n",
    "test_ds = TensorDataset(x_test, y_test)\n",
    "\n",
    "train_loader = DataLoader(train_ds, batch_size=batch_size)\n",
    "test_loader = DataLoader(test_ds, batch_size=batch_size)"
   ]
  },
  {
   "cell_type": "markdown",
   "metadata": {},
   "source": [
    "# Declare # of layers"
   ]
  },
  {
   "cell_type": "code",
   "execution_count": 3,
   "metadata": {
    "ExecuteTime": {
     "end_time": "2021-04-06T11:40:03.377163Z",
     "start_time": "2021-04-06T11:40:03.362204Z"
    }
   },
   "outputs": [],
   "source": [
    "# num of layers\n",
    "layer_type = {\n",
    "    '2layers': [64],\n",
    "    '3layers': [128, 64],\n",
    "    '4layers': [256, 128, 64],\n",
    "    '5layers': [512, 256, 128, 64],\n",
    "}"
   ]
  },
  {
   "cell_type": "markdown",
   "metadata": {},
   "source": [
    "# Define Multi-Layer Class"
   ]
  },
  {
   "cell_type": "code",
   "execution_count": 4,
   "metadata": {
    "ExecuteTime": {
     "end_time": "2021-04-06T11:40:03.393121Z",
     "start_time": "2021-04-06T11:40:03.378162Z"
    }
   },
   "outputs": [],
   "source": [
    "# define class\n",
    "class Net(nn.Module):\n",
    "    def __init__(self, num_layers, num_classes=10):\n",
    "        super(Net, self).__init__()\n",
    "        self.in_features = 28 * 28\n",
    "        self.num_classes = num_classes\n",
    "        \n",
    "        self.layers = self.make_layers(layer_type[num_layers])\n",
    "\n",
    "    def forward(self, x):\n",
    "        x = self.layers(x)\n",
    "        return x\n",
    "\n",
    "    def make_layers(self, architecture):\n",
    "        layers = []\n",
    "        in_features = self.in_features\n",
    "        \n",
    "        for x in architecture:\n",
    "            out_features = x\n",
    "            layers += [nn.Linear(in_features, out_features), nn.ReLU()]\n",
    "            in_features = out_features\n",
    "            \n",
    "        layers += [nn.Linear(in_features, self.num_classes)]\n",
    "        \n",
    "        return nn.Sequential(*layers)\n",
    "    "
   ]
  },
  {
   "cell_type": "markdown",
   "metadata": {},
   "source": [
    "# Define Each Model ( 2 to 5 layer )"
   ]
  },
  {
   "cell_type": "code",
   "execution_count": 5,
   "metadata": {
    "ExecuteTime": {
     "end_time": "2021-04-06T11:40:03.409082Z",
     "start_time": "2021-04-06T11:40:03.394161Z"
    }
   },
   "outputs": [],
   "source": [
    "model2, model3, model4, model5 = Net('2layers'),Net('3layers'),Net('4layers'),Net('5layers')\n",
    "models = [model2, model3, model4, model5]\n",
    "\n",
    "model2_cost, model3_cost, model4_cost, model5_cost = [[] for _ in range(4)] \n",
    "model2_acc, model3_acc, model4_acc, model5_acc = [[] for _ in range(4)] \n",
    "\n",
    "model_cost = [model2_cost, model3_cost, model4_cost, model5_cost]\n",
    "model_acc = [model2_acc, model3_acc, model4_acc, model5_acc]"
   ]
  },
  {
   "cell_type": "markdown",
   "metadata": {},
   "source": [
    "# Train Each Model"
   ]
  },
  {
   "cell_type": "code",
   "execution_count": 6,
   "metadata": {
    "ExecuteTime": {
     "end_time": "2021-04-06T11:45:09.073588Z",
     "start_time": "2021-04-06T11:40:03.410080Z"
    }
   },
   "outputs": [
    {
     "name": "stdout",
     "output_type": "stream",
     "text": [
      "2 layer model\n",
      "=============================\n",
      "0: cost = 0.7136  acc = 0.8247\n",
      "4: cost = 0.3644  acc = 0.9023\n",
      "8: cost = 0.2851  acc = 0.9223\n",
      "12: cost = 0.2399  acc = 0.9343\n",
      "16: cost = 0.2092  acc = 0.9425\n",
      "20: cost = 0.1867  acc = 0.9487\n",
      "\n",
      "\n",
      "3 layer model\n",
      "=============================\n",
      "0: cost = 0.8520  acc = 0.7641\n",
      "4: cost = 0.3666  acc = 0.8970\n",
      "8: cost = 0.2608  acc = 0.9264\n",
      "12: cost = 0.2061  acc = 0.9418\n",
      "16: cost = 0.1713  acc = 0.9517\n",
      "20: cost = 0.1466  acc = 0.9588\n",
      "\n",
      "\n",
      "4 layer model\n",
      "=============================\n",
      "0: cost = 1.2008  acc = 0.6298\n",
      "4: cost = 0.4239  acc = 0.8729\n",
      "8: cost = 0.2775  acc = 0.9175\n",
      "12: cost = 0.2080  acc = 0.9386\n",
      "16: cost = 0.1656  acc = 0.9515\n",
      "20: cost = 0.1368  acc = 0.9603\n",
      "\n",
      "\n",
      "5 layer model\n",
      "=============================\n",
      "0: cost = 1.6628  acc = 0.4477\n",
      "4: cost = 0.5055  acc = 0.8395\n",
      "8: cost = 0.3105  acc = 0.9028\n",
      "12: cost = 0.2231  acc = 0.9310\n",
      "16: cost = 0.1732  acc = 0.9467\n",
      "20: cost = 0.1415  acc = 0.9566\n",
      "\n",
      "\n"
     ]
    }
   ],
   "source": [
    "lr = 1e-2\n",
    "epochs = 21\n",
    "criterion = nn.CrossEntropyLoss()\n",
    "\n",
    "def get_acc(pred, label):\n",
    "    preds = torch.argmax(pred, dim = 1)\n",
    "    return (label == preds).float().mean()\n",
    "\n",
    "for i, model in enumerate(models):\n",
    "    print(f\"{i+2} layer model\")\n",
    "    print(\"=============================\")\n",
    "    optimizer = optim.SGD(model.parameters(), lr = lr)\n",
    "    losses = []\n",
    "    accs = []\n",
    "    for epoch in range(epochs):\n",
    "        for batch_idx, (data, label) in enumerate(train_loader):\n",
    "            pred = model(data)\n",
    "            \n",
    "            optimizer.zero_grad()\n",
    "            \n",
    "            loss = criterion(pred, label)\n",
    "            losses.append(loss)\n",
    "            \n",
    "            accuracy = get_acc(pred, label)\n",
    "            accs.append(accuracy)\n",
    "            \n",
    "            loss.backward()\n",
    "            optimizer.step()\n",
    "        cost = sum(losses)/len(losses)\n",
    "        model_cost[i].append(cost)\n",
    "        \n",
    "        acc = sum(accs)/len(accs)\n",
    "        model_acc[i].append(acc)\n",
    "        \n",
    "        if epoch % 4 == 0:\n",
    "            print(f\"{epoch}: cost = {cost:.4f}  acc = {acc:.4f}\")\n",
    "    print(\"\\n\")"
   ]
  },
  {
   "cell_type": "markdown",
   "metadata": {},
   "source": [
    "# Loss, Accuracy Graph"
   ]
  },
  {
   "cell_type": "code",
   "execution_count": 7,
   "metadata": {
    "ExecuteTime": {
     "end_time": "2021-04-06T11:45:09.516943Z",
     "start_time": "2021-04-06T11:45:09.074586Z"
    }
   },
   "outputs": [
    {
     "data": {
      "image/png": "[encoded data removed]",
      "text/plain": [
       "<Figure size 1080x288 with 2 Axes>"
      ]
     },
     "metadata": {
      "needs_background": "light"
     },
     "output_type": "display_data"
    }
   ],
   "source": [
    "# Loss, Accuracy Graph\n",
    "import matplotlib.pyplot as plt\n",
    "import numpy as np\n",
    "colors = ['r','g','b', 'black']\n",
    "labels = ['2 layer', '3 layer', '4 layer', '5 layer']\n",
    "\n",
    "plt.figure(figsize = (15,4))\n",
    "plt.subplot(121)\n",
    "for cost, color, label in zip(model_cost, colors, labels):\n",
    "    plt.plot(np.arange(len(cost)), cost, color = color, label = label)\n",
    "plt.legend()\n",
    "plt.title(\"Cost Graph\")\n",
    "plt.subplot(122)\n",
    "for acc, color, label in zip(model_acc, colors, labels):\n",
    "    plt.plot(np.arange(len(acc)), acc, color = color, label = label)\n",
    "plt.legend()\n",
    "plt.title(\"Accuracy Graph\")\n",
    "plt.show()\n"
   ]
  },
  {
   "cell_type": "markdown",
   "metadata": {},
   "source": [
    "# Test 1 Mini-Batch"
   ]
  },
  {
   "cell_type": "code",
   "execution_count": 8,
   "metadata": {
    "ExecuteTime": {
     "end_time": "2021-04-06T11:45:09.800185Z",
     "start_time": "2021-04-06T11:45:09.517940Z"
    }
   },
   "outputs": [
    {
     "data": {
      "image/png": "[encoded data removed]",
      "text/plain": [
       "<Figure size 576x9216 with 16 Axes>"
      ]
     },
     "metadata": {
      "needs_background": "light"
     },
     "output_type": "display_data"
    },
    {
     "name": "stdout",
     "output_type": "stream",
     "text": [
      "Groung Truth\n",
      "   3   8   6   9   6   4   5   3   8   4   5   2   3   8   4   8\n",
      "Prediction\n",
      "   3   8   6   9   6   4   5   3   8   4   5   2   3   8   4   8\n"
     ]
    }
   ],
   "source": [
    "dataiter = iter(test_loader)\n",
    "images, labels = dataiter.next()\n",
    "\n",
    "plt.figure(figsize = (8,16*8))\n",
    "for i in range(16):\n",
    "    plt.subplot(1,16,i+1)\n",
    "    plt.imshow(images[i].reshape((28,28)), cmap = 'gray')\n",
    "    plt.axis('off')\n",
    "plt.show()\n",
    "print(\"Groung Truth\")\n",
    "print(\" \"+' '.join('%3s' %label.item() for label in labels))\n",
    "outputs = model(images)\n",
    "_, predicted = torch.max(outputs, 1)\n",
    "print(\"Prediction\")\n",
    "print(\" \"+' '.join('%3s' %label.item() for label in predicted))"
   ]
  },
  {
   "cell_type": "markdown",
   "metadata": {},
   "source": [
    "# Test Accuracy"
   ]
  },
  {
   "cell_type": "code",
   "execution_count": 9,
   "metadata": {
    "ExecuteTime": {
     "end_time": "2021-04-06T11:45:11.453865Z",
     "start_time": "2021-04-06T11:45:09.801183Z"
    }
   },
   "outputs": [
    {
     "name": "stdout",
     "output_type": "stream",
     "text": [
      "2 layer model Accuracy = 0.9696\n",
      "3 layer model Accuracy = 0.9721\n",
      "4 layer model Accuracy = 0.9735\n",
      "5 layer model Accuracy = 0.9740\n"
     ]
    },
    {
     "data": {
      "image/png": "[encoded data removed]",
      "text/plain": [
       "<Figure size 576x432 with 1 Axes>"
      ]
     },
     "metadata": {
      "needs_background": "light"
     },
     "output_type": "display_data"
    }
   ],
   "source": [
    "import seaborn as sns\n",
    "n_predict = 0\n",
    "n_correct = 0\n",
    "test_acc = []\n",
    "for i, model in enumerate(models):\n",
    "\n",
    "    for data, label in test_loader:\n",
    "        outputs = model(data)\n",
    "        _, predicted = torch.max(outputs, 1)\n",
    "\n",
    "        n_predict += len(predicted)\n",
    "        n_correct += (label == predicted).sum()\n",
    "    acc = n_correct / n_predict\n",
    "    test_acc.append(acc)\n",
    "\n",
    "    print(f\"{i+2} layer model Accuracy = {acc:.4f}\")\n",
    "\n",
    "# Accuracy Graph with each model\n",
    "x = np.arange(4)\n",
    "plt.figure(figsize=(8, 6))\n",
    "plt.title(\"Test Accuracy\")\n",
    "plt.ylabel(\"Accuracy\")\n",
    "ax = sns.barplot(x, test_acc)\n",
    "for p in ax.patches:\n",
    "    ax.annotate(\"%.3f\" % p.get_height(),\n",
    "                (p.get_x() + p.get_width() / 2., p.get_height() - 0.05),\n",
    "                ha='center',\n",
    "                va='center',\n",
    "                fontsize=10,\n",
    "                color='black')\n",
    "plt.xticks(x, [f\"{i} layer model\" for i in range(2, 6)])\n",
    "plt.show()"
   ]
  },
  {
   "cell_type": "code",
   "execution_count": null,
   "metadata": {},
   "outputs": [],
   "source": []
  }
 ],
 "metadata": {
  "kernelspec": {
   "display_name": "Python 3",
   "language": "python",
   "name": "python3"
  },
  "language_info": {
   "codemirror_mode": {
    "name": "ipython",
    "version": 3
   },
   "file_extension": ".py",
   "mimetype": "text/x-python",
   "name": "python",
   "nbconvert_exporter": "python",
   "pygments_lexer": "ipython3",
   "version": "3.8.3"
  },
  "toc": {
   "base_numbering": 1,
   "nav_menu": {},
   "number_sections": true,
   "sideBar": true,
   "skip_h1_title": false,
   "title_cell": "Table of Contents",
   "title_sidebar": "Contents",
   "toc_cell": false,
   "toc_position": {},
   "toc_section_display": true,
   "toc_window_display": false
  },
  "varInspector": {
   "cols": {
    "lenName": 16,
    "lenType": 16,
    "lenVar": 40
   },
   "kernels_config": {
    "python": {
     "delete_cmd_postfix": "",
     "delete_cmd_prefix": "del ",
     "library": "var_list.py",
     "varRefreshCmd": "print(var_dic_list())"
    },
    "r": {
     "delete_cmd_postfix": ") ",
     "delete_cmd_prefix": "rm(",
     "library": "var_list.r",
     "varRefreshCmd": "cat(var_dic_list()) "
    }
   },
   "types_to_exclude": [
    "module",
    "function",
    "builtin_function_or_method",
    "instance",
    "_Feature"
   ],
   "window_display": false
  }
 },
 "nbformat": 4,
 "nbformat_minor": 4
}
